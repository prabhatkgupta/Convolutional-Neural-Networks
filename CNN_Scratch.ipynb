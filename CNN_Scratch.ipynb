{
  "nbformat": 4,
  "nbformat_minor": 0,
  "metadata": {
    "colab": {
      "name": "CNN_Scratch",
      "version": "0.3.2",
      "provenance": [],
      "collapsed_sections": [],
      "machine_shape": "hm"
    },
    "kernelspec": {
      "name": "python3",
      "display_name": "Python 3"
    }
  },
  "cells": [
    {
      "cell_type": "code",
      "metadata": {
        "id": "AvmYH0GG48rH",
        "colab_type": "code",
        "colab": {}
      },
      "source": [
        "import numpy as np\n",
        "import matplotlib.pyplot as plt\n",
        "import os\n",
        "\n",
        "%matplotlib inline"
      ],
      "execution_count": 0,
      "outputs": []
    },
    {
      "cell_type": "code",
      "metadata": {
        "id": "UAZpWhspR3cE",
        "colab_type": "code",
        "colab": {}
      },
      "source": [
        "os.chdir('drive/My Drive/Dataset')"
      ],
      "execution_count": 0,
      "outputs": []
    },
    {
      "cell_type": "code",
      "metadata": {
        "id": "dOgGgSzXStMb",
        "colab_type": "code",
        "colab": {}
      },
      "source": [
        "def unpickle(file):\n",
        "  import pickle\n",
        "  with open(file, 'rb') as fo:\n",
        "      dict = pickle.load(fo, encoding='bytes')\n",
        "  return dict"
      ],
      "execution_count": 0,
      "outputs": []
    },
    {
      "cell_type": "code",
      "metadata": {
        "id": "JxAvP7EMSS2m",
        "colab_type": "code",
        "colab": {}
      },
      "source": [
        "def Load_Data():\n",
        "  \n",
        "  train_set_X = []\n",
        "  train_set_Y = []\n",
        "  test_set_X = []\n",
        "  test_set_Y = []\n",
        "  \n",
        "  for i in range(1,6):\n",
        "    filename = 'data_batch_'+str(i)\n",
        "    dict = unpickle(filename)\n",
        "    X = dict[b'data']\n",
        "    Y = dict[b'labels']\n",
        "    train_set_X.extend(X)\n",
        "    train_set_Y.extend(Y)\n",
        "    \n",
        "  train_set_X = np.array(train_set_X)\n",
        "  train_set_Y = np.array(train_set_Y)\n",
        "  \n",
        "  \n",
        "  filename = 'test_batch'\n",
        "  dict = unpickle(filename)\n",
        "  test_set_X = np.array(dict[b'data'])\n",
        "  test_set_Y = np.array(dict[b'labels'])\n",
        "  \n",
        "  \n",
        "  filename = 'batches.meta'\n",
        "  dict = unpickle(filename)\n",
        "  classes = np.array(dict[b'label_names'])\n",
        "\n",
        "  #print(train_set_X.shape,train_set_Y.shape,test_set_X.shape,test_set_Y.shape,classes.shape)\n",
        "  return train_set_X,train_set_Y,test_set_X,test_set_Y,classes"
      ],
      "execution_count": 0,
      "outputs": []
    },
    {
      "cell_type": "code",
      "metadata": {
        "id": "OmN-BGX4Z37T",
        "colab_type": "code",
        "colab": {}
      },
      "source": [
        "def Reshape_And_Normalize(train_set_X,train_set_Y,test_set_X,test_set_Y):\n",
        "  \n",
        "  m_train = train_set_X.shape[0]\n",
        "  m_test = test_set_X.shape[0]\n",
        "  U_train = np.sum(train_set_X,axis=1,keepdims=True)/m_train\n",
        "  U_test = np.sum(test_set_X,axis=1,keepdims=True)/m_test\n",
        "  \n",
        "  train_set_X = train_set_X - U_train\n",
        "  test_set_X = test_set_X - U_test\n",
        "  sigma_train = np.sqrt(np.sum(np.square(train_set_X),axis=1,keepdims=True)/m_train)\n",
        "  sigma_test = np.sqrt(np.sum(np.square(test_set_X),axis=1,keepdims=True)/m_test)\n",
        "  \n",
        "  train_set_X = train_set_X/sigma_train\n",
        "  test_set_X = test_set_X/sigma_test\n",
        "  \n",
        "  train_set_X = train_set_X.reshape(train_set_X.shape[0],3,32,32)\n",
        "  train_set_X = np.moveaxis(train_set_X,1,3)\n",
        "  train_set_Y = train_set_Y.reshape(1,train_set_Y.shape[0])\n",
        "  test_set_X = test_set_X.reshape(test_set_X.shape[0],3,32,32)\n",
        "  test_set_X = np.moveaxis(test_set_X,1,3)\n",
        "  test_set_Y = test_set_Y.reshape(1,test_set_Y.shape[0])\n",
        "  \n",
        "  train_set_X = train_set_X[0:50,:,:,:]\n",
        "  test_set_X = test_set_X[0:10,:,:,:]\n",
        "  train_set_Y = train_set_Y[:,0:50]\n",
        "  test_set_Y = test_set_Y[:,0:10]\n",
        "  \n",
        "  #print(train_set_X.shape,train_set_Y.shape,test_set_X.shape,test_set_Y.shape)\n",
        "  return train_set_X,train_set_Y,test_set_X,test_set_Y"
      ],
      "execution_count": 0,
      "outputs": []
    },
    {
      "cell_type": "code",
      "metadata": {
        "id": "QkmBugB3SinF",
        "colab_type": "code",
        "colab": {}
      },
      "source": [
        "def Data_Preprocessing():\n",
        "  \n",
        "  train_set_X,train_set_Y,test_set_X,test_set_Y,classes = Load_Data()\n",
        "  train_set_X,train_set_Y,test_set_X,test_set_Y = Reshape_And_Normalize(train_set_X,train_set_Y,test_set_X,test_set_Y)\n",
        "  return train_set_X,train_set_Y,test_set_X,test_set_Y"
      ],
      "execution_count": 0,
      "outputs": []
    },
    {
      "cell_type": "code",
      "metadata": {
        "id": "bb4sGIKRWNYr",
        "colab_type": "code",
        "colab": {
          "base_uri": "https://localhost:8080/",
          "height": 305
        },
        "outputId": "a47ead0e-01ae-41c2-d751-1533dcee1cd5"
      },
      "source": [
        "train_set_X,train_set_Y,test_set_X,test_set_Y,classes = Load_Data()\n",
        "train_set_X = train_set_X.reshape(train_set_X.shape[0],3,32,32)\n",
        "train_set_X = np.moveaxis(train_set_X,1,3)\n",
        "print(train_set_X.shape)\n",
        "train_set_Y =train_set_Y.reshape(1,train_set_Y.shape[0])\n",
        "i = 1\n",
        "plt.imshow(train_set_X[i])\n",
        "print('y = '+str(train_set_Y[0,i])+'. It is a '+classes[train_set_Y[0,i]].decode('utf-8')+' picture')"
      ],
      "execution_count": 8,
      "outputs": [
        {
          "output_type": "stream",
          "text": [
            "(50000, 32, 32, 3)\n",
            "y = 9. It is a truck picture\n"
          ],
          "name": "stdout"
        },
        {
          "output_type": "display_data",
          "data": {
            "image/png": "[encoded data removed]",
            "text/plain": [
              "<Figure size 432x288 with 1 Axes>"
            ]
          },
          "metadata": {
            "tags": []
          }
        }
      ]
    },
    {
      "cell_type": "code",
      "metadata": {
        "id": "aTFHGaGXbzZ0",
        "colab_type": "code",
        "colab": {}
      },
      "source": [
        "def Initialize_Parameters(layers_dims,filter_conv,channels):\n",
        "  \n",
        "  parameters={}\n",
        "  L = len(layers_dims)\n",
        "  for l in range(1,L):\n",
        "    WF = np.random.randn(layers_dims[l],layers_dims[l-1])*np.sqrt(1/layers_dims[l-1])*np.sqrt(1/layers_dims[l-1])\n",
        "    bF = np.zeros((layers_dims[l],1))\n",
        "    YF = np.random.randn(layers_dims[l],1)*np.sqrt(1/layers_dims[l-1])*np.sqrt(1/layers_dims[l-1])\n",
        "    BF = np.zeros((layers_dims[l],1))\n",
        "    \n",
        "    parameters['WF'+str(l)] = WF \n",
        "    parameters['bF'+str(l)] = bF\n",
        "    parameters['YF'+str(l)] = YF\n",
        "    parameters['BF'+str(l)] = BF\n",
        "  \n",
        "  L = len(channels)\n",
        "  for l in range(1,L):\n",
        "    WC = np.random.randn(channels[l],filter_conv[l-1][0],filter_conv[l-1][1],channels[l-1])*np.sqrt(1/channels[l-1])\n",
        "    bC = np.zeros((channels[l],1,1,1))\n",
        "    \n",
        "    parameters['WC'+str(l)] = WC\n",
        "    parameters['bC'+str(l)] = bC\n",
        "  \n",
        "  return parameters"
      ],
      "execution_count": 0,
      "outputs": []
    },
    {
      "cell_type": "code",
      "metadata": {
        "id": "OLCxeot-psgz",
        "colab_type": "code",
        "colab": {}
      },
      "source": [
        "def Initialize_Optimizer(layers_dims,parameters,filter_conv,channels):\n",
        "  \n",
        "  v = {} \n",
        "  s = {}\n",
        "  L = len(layers_dims)\n",
        "  \n",
        "  for l in range(1,L):\n",
        "    dWF = np.zeros(parameters['WF'+str(l)].shape)\n",
        "    dbF = np.zeros(parameters['bF'+str(l)].shape)\n",
        "    dYF = np.zeros(parameters['YF'+str(l)].shape)\n",
        "    dBF = np.zeros(parameters['BF'+str(l)].shape)\n",
        "\n",
        "    s['dWF'+str(l)] = v['dWF'+str(l)] = dWF\n",
        "    s['dbF'+str(l)] = v['dbF'+str(l)] = dbF\n",
        "    s['dYF'+str(l)] = v['dYF'+str(l)] = dYF\n",
        "    s['dBF'+str(l)] = v['dBF'+str(l)] = dBF\n",
        "    \n",
        "  L=len(channels)\n",
        "  \n",
        "  for l in range(1,L):\n",
        "    dWC = np.zeros((channels[l],filter_conv[l-1][0],filter_conv[l-1][1],channels[l-1]))\n",
        "    dbC = np.zeros((channels[l],1,1,1))\n",
        "    \n",
        "    s['dWC'+str(l)] = v['dWC'+str(l)] = dWC\n",
        "    s['dbC'+str(l)] = v['dbC'+str(l)] = dbC\n",
        "  \n",
        "  return v,s"
      ],
      "execution_count": 0,
      "outputs": []
    },
    {
      "cell_type": "code",
      "metadata": {
        "id": "gRsqK1dBrA0f",
        "colab_type": "code",
        "colab": {}
      },
      "source": [
        "def sigmoid(Z):\n",
        "  \n",
        "  A = 1/(1+np.exp(-Z))\n",
        "  return A"
      ],
      "execution_count": 0,
      "outputs": []
    },
    {
      "cell_type": "code",
      "metadata": {
        "id": "_Yo7WGB5rOOL",
        "colab_type": "code",
        "colab": {}
      },
      "source": [
        "def relu(Z):\n",
        "  \n",
        "  A = np.maximum(Z,0.0001)\n",
        "  return A"
      ],
      "execution_count": 0,
      "outputs": []
    },
    {
      "cell_type": "code",
      "metadata": {
        "id": "71T1zhkmrP-X",
        "colab_type": "code",
        "colab": {}
      },
      "source": [
        "def softmax(Z):\n",
        "  \n",
        "  exp = np.exp(Z)\n",
        "  expnorm = np.sum(exp,axis=0,keepdims=True)\n",
        "  A = exp/expnorm\n",
        "  assert(expnorm.shape == (1,exp.shape[1]))\n",
        "  \n",
        "  return A"
      ],
      "execution_count": 0,
      "outputs": []
    },
    {
      "cell_type": "code",
      "metadata": {
        "id": "Jx4rkJHLrSoR",
        "colab_type": "code",
        "colab": {}
      },
      "source": [
        "def Compute_Z(A,W,b):\n",
        "  \n",
        "  Z = np.dot(W,A) + b\n",
        "  return Z"
      ],
      "execution_count": 0,
      "outputs": []
    },
    {
      "cell_type": "code",
      "metadata": {
        "id": "Z_29BnJ_rij4",
        "colab_type": "code",
        "colab": {}
      },
      "source": [
        "def Forward_Propagation_Helper(A,W,b,Y,B,activation):\n",
        "  \n",
        "  m_train = A.shape[1]\n",
        "  Z = Compute_Z(A,W,b)\n",
        "  mu = np.sum(Z,axis=1,keepdims=True)/m_train\n",
        "  Z_minus_mu = Z - mu\n",
        "  sigma = np.sqrt(np.sum(np.square(Z_minus_mu),axis=1,keepdims=True)/m_train)\n",
        "  ZNorm = Z_minus_mu/sigma\n",
        "  Zcap = Y*ZNorm + B\n",
        "  \n",
        "  if(activation == 'relu'):\n",
        "    A = relu(Zcap)\n",
        "  elif(activation == 'sigmoid'):\n",
        "    A = sigmoid(Zcap)\n",
        "  elif(activation == 'softmax'):\n",
        "    A = softmax(Zcap)\n",
        "   \n",
        "  return A,ZNorm,sigma"
      ],
      "execution_count": 0,
      "outputs": []
    },
    {
      "cell_type": "code",
      "metadata": {
        "id": "IBT3uWog2qR3",
        "colab_type": "code",
        "colab": {}
      },
      "source": [
        "def Zero_Pad(A,p):\n",
        "  \n",
        "  A_pad = np.pad(A,((0,0),(p[0],p[0]),(p[1],p[1]),(0,0)),'constant',constant_values=(0,0))\n",
        "  return A_pad"
      ],
      "execution_count": 0,
      "outputs": []
    },
    {
      "cell_type": "code",
      "metadata": {
        "id": "GCvKMQmw-AS4",
        "colab_type": "code",
        "colab": {}
      },
      "source": [
        "def Compute_Conv_Z(A_prev_slice,W,b):\n",
        "  \n",
        "  Z = np.sum(A_prev_slice*W) + b\n",
        "  return Z"
      ],
      "execution_count": 0,
      "outputs": []
    },
    {
      "cell_type": "code",
      "metadata": {
        "id": "wUsK88aP7z3T",
        "colab_type": "code",
        "colab": {}
      },
      "source": [
        "def Conv_Forward_Helper(A_prev,W,b,f,s,p,activation):\n",
        "  \n",
        "  (m,nH_prev,nW_prev,nC_prev) = A_prev.shape\n",
        "  nH = int((nH_prev+2*p[0]-f[0])/s[0])+1\n",
        "  nW = int((nW_prev+2*p[1]-f[1])/s[1])+1\n",
        "  nC = W.shape[0]\n",
        "  \n",
        "  #print(m,nH_prev,nW_prev,nC_prev)\n",
        "  Z = np.zeros((m,nH,nW,nC))\n",
        "  A_prev = Zero_Pad(A_prev,p)\n",
        "  \n",
        "  for i in range(m):\n",
        "    for h in range(nH):\n",
        "      for w in range(nW):\n",
        "        \n",
        "        vert_start = h*s[0]\n",
        "        vert_end = vert_start + f[0]\n",
        "        horiz_start = w*s[1]\n",
        "        horiz_end = horiz_start + f[1]\n",
        "        \n",
        "        A_prev_slice = A_prev[i,vert_start:vert_end,horiz_start:horiz_end,:]\n",
        "        \n",
        "        for c in range(nC):\n",
        "          Z[i,h,w,c] = Compute_Conv_Z(A_prev_slice,W[c,:,:,:],b[c,:,:,:])\n",
        "  \n",
        "  if(activation == 'relu'):\n",
        "    A = relu(Z)\n",
        "  else:\n",
        "    A = sigmoid(Z)\n",
        "    \n",
        "  return A"
      ],
      "execution_count": 0,
      "outputs": []
    },
    {
      "cell_type": "code",
      "metadata": {
        "id": "ZV1Az6XuC_bj",
        "colab_type": "code",
        "colab": {}
      },
      "source": [
        "def Pool_Forward_Helper(A_prev,f,s,pooltype):\n",
        "  \n",
        "  (m,nH_prev,nW_prev,nC_prev) = A_prev.shape\n",
        "  nH = int((nH_prev-f[0])/s[0])+1\n",
        "  nW = int((nW_prev-f[1])/s[1])+1\n",
        "  nC = nC_prev\n",
        "  \n",
        "  A = np.zeros((m,nH,nW,nC))\n",
        "  \n",
        "  for i in range(m):\n",
        "    for h in range(nH):\n",
        "      for w in range(nW):\n",
        "        for c in range(nC):\n",
        "          \n",
        "          vert_start = h*s[0]\n",
        "          vert_end = vert_start + f[0]\n",
        "          horiz_start = w*s[1]\n",
        "          horiz_end = horiz_start + f[1]\n",
        "          \n",
        "          A_prev_slice = A_prev[i,vert_start:vert_end,horiz_start:horiz_end,c]\n",
        "      \n",
        "          if(pooltype == 'max'):\n",
        "            A[i,w,h,c] = np.max(A_prev_slice)\n",
        "          else:\n",
        "            A[i,w,h,c] = np.average(A_prev_slice)\n",
        "  \n",
        "  return A"
      ],
      "execution_count": 0,
      "outputs": []
    },
    {
      "cell_type": "code",
      "metadata": {
        "id": "CgqbXvyarkz7",
        "colab_type": "code",
        "colab": {}
      },
      "source": [
        "def Forward_Propagation(train_set_X,parameters,keep_prob,layers_dims,filter_conv,filter_pool,stride_conv,stride_pool,padding):\n",
        "  \n",
        "  A = train_set_X\n",
        "  L = len(filter_conv)\n",
        "  activation = 'relu'\n",
        "  pooltype = 'max'\n",
        "  cache_C = {}\n",
        "  \n",
        "  for l in range(L):\n",
        "    cache_C['A'+str(l)] = A\n",
        "    A = Conv_Forward_Helper(A,parameters['WC'+str(l+1)],parameters['bC'+str(l+1)],filter_conv[l],stride_conv[l],padding[l],activation)\n",
        "    if(l == L-1):\n",
        "      cache_C['A'+str(L)] = A\n",
        "    if(l % 2 == 1):\n",
        "      cache_C['A_pool'+str(l)] = A\n",
        "      A = Pool_Forward_Helper(A,filter_pool[int(l/2)],stride_pool[int(l/2)],pooltype) \n",
        "      if(l == L-1):\n",
        "        cache_C['A_pool'+str(L)] = A\n",
        "  \n",
        "  L = len(layers_dims)-1\n",
        "  A = A.reshape((A.shape[0],A.shape[1]*A.shape[2]*A.shape[3])).T\n",
        "  cache_FC = {}\n",
        "  \n",
        "  for l in range(L):\n",
        "    t = l+1\n",
        "    cache_FC['A'+str(l)] = A\n",
        "    if(t < L):\n",
        "      activation = 'relu'\n",
        "    elif(parameters['WF'+str(L)].shape[0] > 1):\n",
        "      activation = 'softmax'\n",
        "    else :\n",
        "      activation = 'sigmoid'\n",
        "    A,ZNorm,sigma = Forward_Propagation_Helper(A,parameters['WF'+str(t)],parameters['bF'+str(t)],parameters['YF'+str(t)],parameters['BF'+str(t)],activation)\n",
        "    if (t != L):\n",
        "      P = np.random.randn(A.shape[0],A.shape[1])\n",
        "      P = 1-np.ceil(P-keep_prob[l])\n",
        "      A = A*P\n",
        "      A = A/keep_prob[l]\n",
        "      cache_FC['P'+str(t)] = P\n",
        "    cache_FC['ZNorm'+str(t)] = ZNorm\n",
        "    cache_FC['sigma'+str(t)] = sigma\n",
        "  cache_FC['A'+str(L)] = A\n",
        "  \n",
        "  return cache_C,cache_FC,A"
      ],
      "execution_count": 0,
      "outputs": []
    },
    {
      "cell_type": "code",
      "metadata": {
        "id": "S87cvBvVrnsA",
        "colab_type": "code",
        "colab": {}
      },
      "source": [
        "def compute_cost_sigmoid(Y,A,parameters,regu,lambd,layers_dims):\n",
        "  \n",
        "  m_train = Y.shape[1]\n",
        "  cost = np.nansum(Y*np.log(A))+np.sum((1-Y)*np.log(1-A))\n",
        "  cost = -cost\n",
        "  \n",
        "  if(regu):\n",
        "    L = len(layers_dims)\n",
        "    sum = 0\n",
        "    for l in range(1,L):\n",
        "      WF = parameters['WF'+str(l)]\n",
        "      sum = sum + np.sum(np.square(WF))\n",
        "    sum = sum * (lambd*0.5/m_train)\n",
        "    cost = cost + sum\n",
        "  \n",
        "  return cost"
      ],
      "execution_count": 0,
      "outputs": []
    },
    {
      "cell_type": "code",
      "metadata": {
        "id": "AMF7-H25t0u9",
        "colab_type": "code",
        "colab": {}
      },
      "source": [
        "def compute_cost_softmax(Y,A,parameters,regu,lambd,layers_dims):\n",
        "  \n",
        "  m_train = Y.shape[1]\n",
        "  cost = np.sum(Y*np.log(A))\n",
        "  cost = -cost\n",
        "  \n",
        "  if(regu):\n",
        "    L = len(layers_dims)\n",
        "    sum = 0\n",
        "    for l in range(1,L):\n",
        "      WF = parameters['WF'+str(l)]\n",
        "      sum = sum + np.sum(np.square(WF))\n",
        "    sum = sum * (lambd*0.5/m_train)\n",
        "    cost = cost + sum\n",
        "   \n",
        "  return cost"
      ],
      "execution_count": 0,
      "outputs": []
    },
    {
      "cell_type": "code",
      "metadata": {
        "id": "z7xcq890uHTr",
        "colab_type": "code",
        "colab": {}
      },
      "source": [
        "def relu_backward(dA,A):\n",
        "  \n",
        "  dZ = dA * np.int32(A>0)\n",
        "  return dZ"
      ],
      "execution_count": 0,
      "outputs": []
    },
    {
      "cell_type": "code",
      "metadata": {
        "id": "uJsTOHWxupM0",
        "colab_type": "code",
        "colab": {}
      },
      "source": [
        "def sigmoid_backward(dA,A):\n",
        "  \n",
        "  dZ = A*(1-A) * dA\n",
        "  return dZ"
      ],
      "execution_count": 0,
      "outputs": []
    },
    {
      "cell_type": "code",
      "metadata": {
        "id": "49DeuVxkN0NB",
        "colab_type": "code",
        "colab": {}
      },
      "source": [
        "def Backward_Propagation_Helper(flag,dA,W,Y,A_prev,A_curr,ZNorm,sigma,activation,regu,lambd):\n",
        "  \n",
        "  if(flag):\n",
        "    dZcap = dA\n",
        "  else:\n",
        "    if(activation == 'relu'):\n",
        "      dZcap = relu_backward(dA,A_curr)\n",
        "    elif(activation == 'sigmoid'):\n",
        "      dZcap = sigmoid_backward(dA,A_curr)\n",
        "  \n",
        "  m_train = A_curr.shape[1]\n",
        "  dZNorm = Y * dZcap\n",
        "  dZ = dZNorm / sigma\n",
        "  dW = np.dot(dZ,A_prev.T)/m_train\n",
        "  if(regu):\n",
        "    dW = dW + W*lambd/m_train\n",
        "  db = np.sum(dZ,axis=1,keepdims=True)/m_train\n",
        "  dY = np.sum(dZcap * ZNorm,axis=1,keepdims=True)/m_train\n",
        "  dB = np.sum(dZcap,axis=1,keepdims=True)/m_train\n",
        "  dA = np.dot(W.T,dZ)\n",
        "  \n",
        "  assert(W.shape == dW.shape)\n",
        "  \n",
        "  return dA,dW,db,dY,dB"
      ],
      "execution_count": 0,
      "outputs": []
    },
    {
      "cell_type": "code",
      "metadata": {
        "id": "oycHT9v0QVhm",
        "colab_type": "code",
        "colab": {}
      },
      "source": [
        "def Pool_Backward_Helper(dA,A_prev,f,s,pooltype):\n",
        "  \n",
        "  (m,nH_prev,nW_prev,nC_prev) = A_prev.shape\n",
        "  (m,nH,nW,nC) = dA.shape\n",
        " \n",
        "  #print(A_prev.shape)\n",
        "  dA_prev = np.zeros(A_prev.shape)\n",
        "  \n",
        "  for i in range(m):\n",
        "    for h in range(nH):\n",
        "      for w in range(nW):\n",
        "        for c in range(nC):\n",
        "          \n",
        "          vert_start = h*s[0]\n",
        "          vert_end = vert_start + f[0]\n",
        "          horiz_start = w*s[1]\n",
        "          horiz_end = horiz_start + f[1]\n",
        "          \n",
        "          A_prev_slice = A_prev[i,vert_start:vert_end,horiz_start:horiz_end,c]\n",
        "          \n",
        "          if(pooltype == 'max'):\n",
        "            mask = A_prev_slice == np.max(A_prev_slice)\n",
        "            dA_prev[i,vert_start:vert_end,horiz_start:horiz_end,c] += mask*dA[i,h,w,c]\n",
        "          elif(pooltype == 'average'):\n",
        "            mask = np.ones((f[0],f[1]))\n",
        "            dA_prev[i,vert_start:vert_end,horiz_start:horiz_end,c] += mask*dA[i,h,w,c]\n",
        "  \n",
        "  \n",
        "  return dA_prev"
      ],
      "execution_count": 0,
      "outputs": []
    },
    {
      "cell_type": "code",
      "metadata": {
        "id": "uCe8zhzjQYoe",
        "colab_type": "code",
        "colab": {}
      },
      "source": [
        "def Conv_Backward_Helper(dA,W,A_prev,A_curr,activation,f,s,p):\n",
        "  \n",
        "  if(activation == 'relu'):\n",
        "    dZ = relu_backward(dA,A_curr)\n",
        "  else:\n",
        "    dZ = sigmoid_backward(dA,A_curr)\n",
        "   \n",
        "  (m,nH_prev,nW_prev,nC_prev) = A_prev.shape\n",
        "  (m,nH,nW,nC) = dZ.shape\n",
        "  \n",
        "  dA = np.zeros(A_prev.shape)\n",
        "  dWC = np.zeros((nC,f[0],f[1],nC_prev))\n",
        "  dbC = np.zeros((nC,1,1,1))\n",
        "  \n",
        "  A_prev = Zero_Pad(A_prev,p)\n",
        "  dA = Zero_Pad(dA,p)\n",
        "  #print(dA.shape,A_prev.shape,p)\n",
        "  \n",
        "  for i in range(m):\n",
        "    for h in range(nH):\n",
        "      for w in range(nW):\n",
        "        \n",
        "        vert_start = h*s[0]\n",
        "        vert_end = vert_start + f[0]\n",
        "        horiz_start = w*s[1]\n",
        "        horiz_end = horiz_start + f[1]\n",
        "        \n",
        "        A_prev_slice = A_prev[i,vert_start:vert_end,horiz_start:horiz_end,:]\n",
        "        \n",
        "        for c in range(nC):\n",
        "          dA[i,vert_start:vert_end,horiz_start:horiz_end,:] += dZ[i,h,w,c]*W[c,:,:,:]\n",
        "          dWC[c,:,:,:] += A_prev_slice*dZ[i,h,w,c]\n",
        "          dbC[c,:,:,:] += dZ[i,h,w,c]\n",
        "  \n",
        "  if(p[0]!=0 and p[1]!=0):\n",
        "    dA = dA[:,p[0]:-p[0],p[1]:-p[1],:]\n",
        "  \n",
        "  assert(dA.shape == (m,nH_prev,nW_prev,nC_prev))\n",
        "  \n",
        "  return dA,dWC,dbC"
      ],
      "execution_count": 0,
      "outputs": []
    },
    {
      "cell_type": "code",
      "metadata": {
        "id": "QWLTPRrkOBo9",
        "colab_type": "code",
        "colab": {}
      },
      "source": [
        "def Backward_Propagation(train_set_Y,A,parameters,cache_FC,cache_C,keep_prob,regu,lambd,filter_conv,filter_pool,stride_conv,stride_pool,padding,layers_dims):\n",
        "  \n",
        "  grads = {}\n",
        "  L = len(layers_dims)-1\n",
        "  activation = 'relu'\n",
        "  pooltype = 'max'\n",
        "  \n",
        "  dA = A - train_set_Y\n",
        "  for l in reversed(range(L)):\n",
        "    if(l == L-1):\n",
        "      flag = True\n",
        "    else:\n",
        "      flag = False\n",
        "      dA = dA * cache_FC['P'+str(l+1)]\n",
        "      dA = dA/keep_prob[l]\n",
        "\n",
        "    dA,dWF,dbF,dYF,dBF = Backward_Propagation_Helper(flag,dA,parameters['WF'+str(l+1)],parameters['YF'+str(l+1)],cache_FC['A'+str(l)],cache_FC['A'+str(l+1)],cache_FC['ZNorm'+str(l+1)],cache_FC['sigma'+str(l+1)],activation,regu,lambd)\n",
        "    grads['dWF'+str(l+1)] = dWF\n",
        "    grads['dbF'+str(l+1)] = dbF\n",
        "    grads['dYF'+str(l+1)] = dYF\n",
        "    grads['dBF'+str(l+1)] = dBF\n",
        "  \n",
        "  L = len(filter_conv)\n",
        "  dA = dA.T\n",
        "  shape = cache_C['A_pool'+str(L)].shape\n",
        "  dA = dA.reshape(dA.shape[0],shape[3],shape[1],shape[2])\n",
        "  dA = np.moveaxis(dA,1,3)\n",
        "  \n",
        "  for l in reversed(range(L)):\n",
        "    if(l % 2 == 1):\n",
        "      dA = Pool_Backward_Helper(dA,cache_C['A_pool'+str(l)],filter_pool[int(l/2)],stride_pool[int(l/2)],pooltype)\n",
        "    dA,dWC,dbC = Conv_Backward_Helper(dA,parameters['WC'+str(l+1)],cache_C['A'+str(l)],cache_C['A'+str(l+1)],activation,filter_conv[l],stride_conv[l],padding[l])\n",
        "    grads['dWC'+str(l+1)] = dWC\n",
        "    grads['dbC'+str(l+1)] = dbC\n",
        "    \n",
        "  return grads"
      ],
      "execution_count": 0,
      "outputs": []
    },
    {
      "cell_type": "code",
      "metadata": {
        "id": "o7s5kgFzp-um",
        "colab_type": "code",
        "colab": {}
      },
      "source": [
        "def Update_Parameters(grads,parameters,learning_rate,v,s,beta1,beta2,t,layers_dims,channels,epsilon=1e-8):\n",
        "\n",
        "  L = len(layers_dims)\n",
        "  \n",
        "  for l in range(1,L):\n",
        "    v['dWF'+str(l)] = beta1*v['dWF'+str(l)] + (1-beta1)*grads['dWF'+str(l)]\n",
        "    vdWF_corr = v['dWF'+str(l)]/(1-(beta1**t))\n",
        "    v['dbF'+str(l)] = beta1*v['dbF'+str(l)] + (1-beta1)*grads['dbF'+str(l)] \n",
        "    vdbF_corr = v['dbF'+str(l)]/(1-(beta1**t))\n",
        "    v['dYF'+str(l)] = beta1*v['dYF'+str(l)] + (1-beta1)*grads['dYF'+str(l)]\n",
        "    vdYF_corr = v['dYF'+str(l)]/(1-(beta1**t))\n",
        "    v['dBF'+str(l)] = beta1*v['dBF'+str(l)] + (1-beta1)*grads['dBF'+str(l)]\n",
        "    vdBF_corr = v['dBF'+str(l)]/(1-(beta1**t))\n",
        "\n",
        "    s['dWF'+str(l)] = beta2*s['dWF'+str(l)] + (1-beta2)*(grads['dWF'+str(l)]**2)\n",
        "    sdWF_corr = s['dWF'+str(l)]/(1-(beta2**t))\n",
        "    s['dbF'+str(l)] = beta2*s['dbF'+str(l)] + (1-beta2)*(grads['dbF'+str(l)]**2)\n",
        "    sdbF_corr = s['dbF'+str(l)]/(1-(beta2**t))\n",
        "    s['dYF'+str(l)] = beta2*s['dYF'+str(l)] + (1-beta2)*(grads['dYF'+str(l)]**2)\n",
        "    sdYF_corr = s['dYF'+str(l)]/(1-(beta2**t))\n",
        "    s['dBF'+str(l)] = beta2*s['dBF'+str(l)] + (1-beta2)*(grads['dBF'+str(l)]**2)\n",
        "    sdBF_corr = s['dBF'+str(l)]/(1-(beta2**t))\n",
        "    \n",
        "    parameters['WF'+str(l)] = parameters['WF'+str(l)] - learning_rate*vdWF_corr/(np.sqrt(sdWF_corr)+epsilon)\n",
        "    parameters['bF'+str(l)] = parameters['bF'+str(l)] - learning_rate*vdbF_corr/(np.sqrt(sdbF_corr)+epsilon)\n",
        "    parameters['YF'+str(l)] = parameters['YF'+str(l)] - learning_rate*vdYF_corr/(np.sqrt(sdYF_corr)+epsilon)\n",
        "    parameters['BF'+str(l)] = parameters['BF'+str(l)] - learning_rate*vdBF_corr/(np.sqrt(sdBF_corr)+epsilon)\n",
        "\n",
        "  L = len(channels)\n",
        "  \n",
        "  for l in range(1,L):\n",
        "    v['dWC'+str(l)] = beta1*v['dWC'+str(l)] + (1-beta1)*grads['dWC'+str(l)]\n",
        "    vdWC_corr = v['dWC'+str(l)]/(1-(beta1**t))\n",
        "    v['dbC'+str(l)] = beta1*v['dbC'+str(l)] + (1-beta1)*grads['dbC'+str(l)]\n",
        "    vdbC_corr = v['dbC'+str(l)]/(1-(beta1)**t)\n",
        "    \n",
        "    s['dWC'+str(l)] = beta2*s['dWC'+str(l)] + (1-beta2)*(grads['dWC'+str(l)]**2)\n",
        "    sdWC_corr = s['dWC'+str(l)]/(1-(beta2**t))\n",
        "    s['dbC'+str(l)] = beta2*s['dbC'+str(l)] + (1-beta2)*(grads['dbC'+str(l)]**2)\n",
        "    sdbC_corr = s['dbC'+str(l)]/(1-(beta2**t))\n",
        "    \n",
        "    parameters['WC'+str(l)] -= learning_rate*vdWC_corr/(np.sqrt(sdWC_corr)+epsilon)\n",
        "    parameters['bC'+str(l)] -= learning_rate*vdbC_corr/(np.sqrt(sdbC_corr)+epsilon)\n",
        "  \n",
        "  return parameters,v,s"
      ],
      "execution_count": 0,
      "outputs": []
    },
    {
      "cell_type": "code",
      "metadata": {
        "id": "tdOQod01vRuW",
        "colab_type": "code",
        "colab": {}
      },
      "source": [
        "def Shuffle_And_Split(train_set_X,train_set_Y,mini_batch_size):\n",
        "  \n",
        "  m_train = train_set_X.shape[0]\n",
        "  perm = list(np.random.permutation(m_train))\n",
        "  train_set_X = train_set_X[perm,:,:,:]\n",
        "  train_set_Y = train_set_Y[:,perm]\n",
        "  \n",
        "  n = int(m_train/mini_batch_size)\n",
        "  minibatches = []\n",
        "  \n",
        "  for i in range(n):\n",
        "    X = train_set_X[i*mini_batch_size:(i+1)*mini_batch_size,:,:,:]\n",
        "    Y = train_set_Y[:,i*mini_batch_size:(i+1)*mini_batch_size]\n",
        "    minibatch = (X,Y)\n",
        "    minibatches.append(minibatch)\n",
        "  \n",
        "  if(m_train % mini_batch_size != 0):\n",
        "    X = train_set_X[n*mini_batch_size:m_train,:,:,:]\n",
        "    Y = train_set_Y[:,n*mini_batch_size:m_train]\n",
        "    minibatch = (X,Y)\n",
        "    minibatches.append(minibatch)\n",
        "  \n",
        "  return minibatches"
      ],
      "execution_count": 0,
      "outputs": []
    },
    {
      "cell_type": "code",
      "metadata": {
        "id": "vySjoNTQvXnz",
        "colab_type": "code",
        "colab": {}
      },
      "source": [
        "def Predict(X,parameters,keep_prob,layers_dims,filter_conv,filter_pool,stride_conv,stride_pool,padding):\n",
        "  \n",
        "  cache_C,cache_FC,A = Forward_Propagation(X,parameters,keep_prob,layers_dims,filter_conv,filter_pool,stride_conv,stride_pool,padding)\n",
        "  L = len(layers_dims)-1\n",
        "  \n",
        "  if(parameters['WF'+str(L)].shape[0] == 1):\n",
        "    A = np.abs(np.ceil(A-0.5))\n",
        "    A = A.astype('int32')\n",
        "  else:\n",
        "    A = np.argmax(A,axis=0)\n",
        "    A = np.eye(10)[A][0].T\n",
        "   \n",
        "  return A"
      ],
      "execution_count": 0,
      "outputs": []
    },
    {
      "cell_type": "code",
      "metadata": {
        "id": "aMYliRz8vbJX",
        "colab_type": "code",
        "colab": {}
      },
      "source": [
        "def Model(train_set_X,train_set_Y,test_set_X,test_set_Y,learning_rate,epochs,layers_dims,keep_prob,channels,filter_conv,filter_pool,stride_conv,stride_pool,padding):\n",
        "  \n",
        "  beta1 = 0.8\n",
        "  beta2 = 0.9\n",
        "  beta3 = 0.99\n",
        "  lambd = 0.7\n",
        "  regu = False\n",
        "  mini_batch_size = 25\n",
        "  \n",
        "  L = len(layers_dims)\n",
        "  if(layers_dims[L-1] > 1):\n",
        "    train_set_Y = np.eye(10)[train_set_Y][0].T\n",
        "    test_set_Y = np.eye(10)[test_set_Y][0].T\n",
        "    \n",
        "  total_cost = []\n",
        "  parameters = Initialize_Parameters(layers_dims,filter_conv,channels)\n",
        "  v,s = Initialize_Optimizer(layers_dims,parameters,filter_conv,channels)\n",
        "  \n",
        "  for i in range(epochs):\n",
        "    minibatches = Shuffle_And_Split(train_set_X,train_set_Y,mini_batch_size)\n",
        "    for minibatch in minibatches:\n",
        "      (X,Y) = minibatch\n",
        "      cache_C,cache_FC,A = Forward_Propagation(X,parameters,keep_prob,layers_dims,filter_conv,filter_pool,stride_conv,stride_pool,padding)\n",
        "      \n",
        "      if(parameters['WF'+str(L-1)].shape[0] > 1):\n",
        "        cost = compute_cost_softmax(Y,A,parameters,regu,lambd,layers_dims)\n",
        "      else :\n",
        "        cost = compute_cost_sigmoid(Y,A,parameters,regu,lambd,layers_dims)\n",
        "      \n",
        "      grads = Backward_Propagation(Y,A,parameters,cache_FC,cache_C,keep_prob,regu,lambd,filter_conv,filter_pool,stride_conv,stride_pool,padding,layers_dims)\n",
        "      \n",
        "      #if (i % 10000 == 0):\n",
        "        #flag=Gradient_Checking(grads,parameters,X,Y,keep_prob=[1,1,1],regu=regu,lambd=lambd)\n",
        "        #print(\"Result of Gradient Checking : \"+str(flag))\n",
        "        \n",
        "      parameters,v,s = Update_Parameters(grads,parameters,learning_rate,v,s,beta2,beta3,i+1,layers_dims,channels)\n",
        "      \n",
        "      if(True):\n",
        "        print('Cost after '+str(i)+'th Iteration : '+str(cost))\n",
        "      \n",
        "    if(i % 500 == 0):\n",
        "        total_cost.append(cost)\n",
        "     \n",
        "  A_train = Predict(train_set_X,parameters,keep_prob,layers_dims,filter_conv,filter_pool,stride_conv,stride_pool,padding)\n",
        "  A_test = Predict(test_set_X,parameters,keep_prob,layers_dims,filter_conv,filter_pool,stride_conv,stride_pool,padding)\n",
        "  \n",
        "  if(parameters['WF'+str(L-1)].shape[0] == 1):\n",
        "    train_acc = 100-np.mean(np.abs(train_set_Y-A_train))*100\n",
        "    test_acc = 100-np.mean(np.abs(test_set_Y-A_test))*100\n",
        "    \n",
        "  elif(parameters['WF'+str(L-1)].shape[0] > 1):\n",
        "    train_temp = np.equal(np.argmax(A_train,axis=0),np.argmax(train_set_Y,axis=0))\n",
        "    train_acc = np.mean(train_temp.astype('int32'))*100\n",
        "    test_temp = np.equal(np.argmax(A_test,axis=0),np.argmax(test_set_Y,axis=0))\n",
        "    test_acc = np.mean(test_temp.astype('int32'))*100\n",
        "  \n",
        "  print(\"Training Set Accuracy : \"+str(train_acc))\n",
        "  print(\"Test Set Accuracy : \"+str(test_acc))\n",
        "  \n",
        "  plt.plot(total_cost)\n",
        "  plt.xlabel('Iterations')\n",
        "  plt.ylabel('Cost')\n",
        "  plt.title(\"Learning_Rate : \"+str(learning_rate))\n",
        "  plt.show()  \n",
        "  \n",
        "  return parameters"
      ],
      "execution_count": 0,
      "outputs": []
    },
    {
      "cell_type": "code",
      "metadata": {
        "id": "XyRP2ihB1cph",
        "colab_type": "code",
        "colab": {}
      },
      "source": [
        "def Calculate_HW(train_set_X,filter_conv,filter_pool,stride_conv,stride_pool,padding,channels):\n",
        "  \n",
        "  shape = train_set_X.shape\n",
        "  h = shape[1]\n",
        "  w = shape[2]\n",
        "  L = len(filter_conv)\n",
        "  \n",
        "  for l in range(L):\n",
        "    h = int((h+2*padding[l][0]-filter_conv[l][0])/stride_conv[l][0]) + 1\n",
        "    w = int((w+2*padding[l][1]-filter_conv[l][0])/stride_conv[l][1]) + 1\n",
        "    if(l%2 == 1):\n",
        "      h = int((h-filter_pool[int(l/2)][0])/stride_pool[int(l/2)][0]) + 1\n",
        "      w = int((w-filter_pool[int(l/2)][1])/stride_pool[int(l/2)][1]) + 1\n",
        "  \n",
        "  c = channels[L]\n",
        "  \n",
        "  return h*w*c"
      ],
      "execution_count": 0,
      "outputs": []
    },
    {
      "cell_type": "code",
      "metadata": {
        "id": "2AEX5B5Z0r6p",
        "colab_type": "code",
        "colab": {}
      },
      "source": [
        "def Caller_Function():\n",
        "  \n",
        "  train_set_X,train_set_Y,test_set_X,test_set_Y = Data_Preprocessing()\n",
        "  learning_rate = 0.3\n",
        "  epochs = 5\n",
        "  keep_prob = [1,1]\n",
        "  channels = [train_set_X.shape[3]]\n",
        "  channels.extend([32,64])\n",
        "  filter_conv = [(3,3),(3,3)]\n",
        "  filter_pool = [(2,2)]\n",
        "  stride_conv = [(1,1),(1,1)]\n",
        "  stride_pool = [(2,2)]\n",
        "  padding = [(0,0),(0,0)]\n",
        "  layers_dims = [Calculate_HW(train_set_X,filter_conv,filter_pool,stride_conv,stride_pool,padding,channels)]\n",
        "  layers_dims.extend([1024,10])\n",
        "  parameters = Model(train_set_X,train_set_Y,test_set_X,test_set_Y,learning_rate,epochs,layers_dims,keep_prob,channels,filter_conv,filter_pool,stride_conv,stride_pool,padding)\n",
        "  \n",
        "  for key,value in parameters.items():\n",
        "    print(key,value)"
      ],
      "execution_count": 0,
      "outputs": []
    },
    {
      "cell_type": "code",
      "metadata": {
        "id": "wDkXe8Pi5VAs",
        "colab_type": "code",
        "colab": {
          "base_uri": "https://localhost:8080/",
          "height": 108
        },
        "outputId": "27aff615-b786-4dec-c889-33115cbafcf4"
      },
      "source": [
        "Caller_Function()"
      ],
      "execution_count": 0,
      "outputs": [
        {
          "output_type": "stream",
          "text": [
            "Cost after 0th Iteration : 57.56111099455515\n",
            "Cost after 0th Iteration : 61.56348552197319\n",
            "Cost after 1th Iteration : 54.5281873320763\n",
            "Cost after 1th Iteration : 55.536910240382205\n",
            "Cost after 2th Iteration : 44.87751321845079\n"
          ],
          "name": "stdout"
        }
      ]
    },
    {
      "cell_type": "code",
      "metadata": {
        "id": "7s3SRtFYfJBf",
        "colab_type": "code",
        "colab": {}
      },
      "source": [
        ""
      ],
      "execution_count": 0,
      "outputs": []
    }
  ]
}