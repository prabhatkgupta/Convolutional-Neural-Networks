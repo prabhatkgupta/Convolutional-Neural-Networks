{
  "nbformat": 4,
  "nbformat_minor": 0,
  "metadata": {
    "colab": {
      "name": "CNN_Keras",
      "version": "0.3.2",
      "provenance": [],
      "collapsed_sections": []
    },
    "kernelspec": {
      "name": "python3",
      "display_name": "Python 3"
    }
  },
  "cells": [
    {
      "cell_type": "code",
      "metadata": {
        "id": "GBunCy4hSBrM",
        "colab_type": "code",
        "colab": {}
      },
      "source": [
        "import numpy as np\n",
        "import matplotlib.pyplot as plt\n",
        "import h5py \n",
        "import os\n",
        "import tensorflow as tf\n",
        "import keras\n",
        "import keras.backend as K\n",
        "K.set_image_data_format('channels_last')\n",
        "from keras.utils import plot_model\n",
        "from keras import regularizers\n",
        "\n",
        "%matplotlib inline"
      ],
      "execution_count": 0,
      "outputs": []
    },
    {
      "cell_type": "code",
      "metadata": {
        "id": "zGD-KvgDc8jr",
        "colab_type": "code",
        "colab": {}
      },
      "source": [
        "os.chdir('drive/My Drive/Dataset')"
      ],
      "execution_count": 0,
      "outputs": []
    },
    {
      "cell_type": "code",
      "metadata": {
        "id": "9shWgi-ZbEsC",
        "colab_type": "code",
        "colab": {}
      },
      "source": [
        "def Load_Data():\n",
        "  \n",
        "  train_dataset = h5py.File('train_signs.h5','r')\n",
        "  test_dataset = h5py.File('test_signs.h5','r')\n",
        "  \n",
        "  train_set_X_orig = np.array(train_dataset['train_set_x'][:])\n",
        "  train_set_Y_orig = np.array(train_dataset['train_set_y'][:])\n",
        "  test_set_X_orig = np.array(test_dataset['test_set_x'][:])\n",
        "  test_set_Y_orig = np.array(test_dataset['test_set_y'][:])\n",
        "  \n",
        "  classes = np.array(test_dataset['list_classes'][:])\n",
        "  \n",
        "  return train_set_X_orig,train_set_Y_orig,test_set_X_orig,test_set_Y_orig,classes"
      ],
      "execution_count": 0,
      "outputs": []
    },
    {
      "cell_type": "code",
      "metadata": {
        "id": "zxvLPrGXduTV",
        "colab_type": "code",
        "colab": {
          "base_uri": "https://localhost:8080/",
          "height": 305
        },
        "outputId": "2e52ea43-1c86-4e05-b4a6-e0430bd694e0"
      },
      "source": [
        "train_set_X_orig,train_set_Y_orig,test_set_X_orig,test_set_Y_orig,classes = Load_Data()\n",
        "\n",
        "print(train_set_X_orig.shape,train_set_Y_orig.shape,test_set_X_orig.shape,test_set_Y_orig.shape)\n",
        "i = 9\n",
        "plt.imshow(test_set_X_orig[i])\n",
        "print('y = '+str(test_set_Y_orig[i])+'. It is the number '+str(test_set_Y_orig[i]))"
      ],
      "execution_count": 49,
      "outputs": [
        {
          "output_type": "stream",
          "text": [
            "(1080, 64, 64, 3) (1080,) (120, 64, 64, 3) (120,)\n",
            "y = 1. It is the number 1\n"
          ],
          "name": "stdout"
        },
        {
          "output_type": "display_data",
          "data": {
            "image/png": "[encoded data removed]",
            "text/plain": [
              "<Figure size 432x288 with 1 Axes>"
            ]
          },
          "metadata": {
            "tags": []
          }
        }
      ]
    },
    {
      "cell_type": "code",
      "metadata": {
        "id": "z3Mu16lFeFsz",
        "colab_type": "code",
        "colab": {}
      },
      "source": [
        "def Reshape_And_Normalize(train_set_X_orig,train_set_Y_orig,test_set_X_orig,test_set_Y_orig):\n",
        "  \n",
        "  train_set_X = train_set_X_orig/255\n",
        "  test_set_X = test_set_X_orig/255\n",
        "  train_set_Y = train_set_Y_orig.reshape((train_set_Y_orig.shape[0],1))\n",
        "  test_set_Y = test_set_Y_orig.reshape((test_set_Y_orig.shape[0],1))\n",
        "  \n",
        "  return train_set_X,train_set_Y,test_set_X,test_set_Y"
      ],
      "execution_count": 0,
      "outputs": []
    },
    {
      "cell_type": "code",
      "metadata": {
        "id": "v7L2pTyIlg-7",
        "colab_type": "code",
        "colab": {}
      },
      "source": [
        "def Data_Preprocessing():\n",
        "  \n",
        "  train_set_X_orig,train_set_Y_orig,test_set_X_orig,test_set_Y_orig,classes = Load_Data()\n",
        "  train_set_X,train_set_Y,test_set_X,test_set_Y = Reshape_And_Normalize(train_set_X_orig,train_set_Y_orig,test_set_X_orig,test_set_Y_orig)\n",
        "  \n",
        "  return train_set_X,train_set_Y,test_set_X,test_set_Y"
      ],
      "execution_count": 0,
      "outputs": []
    },
    {
      "cell_type": "code",
      "metadata": {
        "id": "RMQbTDHUl2qc",
        "colab_type": "code",
        "colab": {}
      },
      "source": [
        "def Propagation(input_shape,channels,layers_dims,filter_conv,filter_pool,stride_conv,stride_pool,padding,keep_prob_conv,keep_prob_fully):\n",
        "  \n",
        "  X_input = keras.layers.Input(input_shape)\n",
        "  X = X_input\n",
        "  L = len(channels)\n",
        "  \n",
        "  for l in range(1,L):\n",
        "    p = padding[l-1]\n",
        "    s = stride_conv[l-1]\n",
        "    f = filter_conv[l-1]\n",
        "    X = keras.layers.ZeroPadding2D(padding=p)(X)\n",
        "    X = keras.layers.Conv2D(channels[l],kernel_size=f,strides=s,name='Conv'+str(l),kernel_regularizer=regularizers.l2(0.01))(X)\n",
        "    X = keras.layers.BatchNormalization(axis=3,name='BatchNorm_C'+str(l))(X)\n",
        "    X = keras.layers.Activation('relu')(X)\n",
        "    X = keras.layers.Dropout(rate=keep_prob_conv[l-1])(X)\n",
        "    \n",
        "    if(l%2 == 0):\n",
        "      fp = filter_pool[int(l/2-1)]\n",
        "      sp = stride_pool[int(l/2-1)]\n",
        "      X =  keras.layers.MaxPooling2D(pool_size=fp,strides=sp,padding='valid',name='MaxPool'+str(l/2))(X)\n",
        "   \n",
        "  X = keras.layers.Flatten()(X)\n",
        "  L = len(layers_dims)\n",
        "  \n",
        "  for l in range(L):\n",
        "    \n",
        "    if(l < L-1):\n",
        "      activation = 'relu'\n",
        "    else:\n",
        "      if(layers_dims[l] == 1):\n",
        "        activation = 'sigmoid'\n",
        "      else:\n",
        "        activation = 'softmax'\n",
        " \n",
        "    X = keras.layers.BatchNormalization(axis=1,name='BatchNorm_F'+str(l+1))(X)\n",
        "    X = keras.layers.Dense(layers_dims[l],activation=activation,kernel_initializer='glorot_uniform', bias_initializer='zeros',name='FullyConnected'+str(l+1),use_bias=True,kernel_regularizer=regularizers.l2(0.01))(X)\n",
        "    X = keras.layers.Dropout(rate=keep_prob_fully[l])(X)\n",
        "    \n",
        "  model = keras.models.Model(inputs=X_input,outputs=X,name='CNN_Keras')\n",
        "  \n",
        "  return model"
      ],
      "execution_count": 0,
      "outputs": []
    },
    {
      "cell_type": "code",
      "metadata": {
        "id": "2dQO9eexJw0y",
        "colab_type": "code",
        "colab": {}
      },
      "source": [
        "def Caller_Function():\n",
        "  \n",
        "  train_set_X,train_set_Y,test_set_X,test_set_Y = Data_Preprocessing()\n",
        "  epochs = 2\n",
        "  mini_batch_size = 2\n",
        "  channels = [train_set_X.shape[3]]\n",
        "  channels.extend([32,64])\n",
        "  filter_conv = [(3,3),(3,3)]\n",
        "  filter_pool = [(2,2)]\n",
        "  stride_conv = [(1,1),(1,1)]\n",
        "  stride_pool = [(2,2)]\n",
        "  padding = [[0,0],[0,0]]\n",
        "  layers_dims=[1024,6]\n",
        "  keep_prob_conv = [1,1]\n",
        "  keep_prob_fully = [1,1]\n",
        "  train_set_Y = np.eye(layers_dims[len(layers_dims)-1])[train_set_Y.T][0]\n",
        "  test_set_Y = np.eye(layers_dims[len(layers_dims)-1])[test_set_Y.T][0]\n",
        "  shape = (train_set_X.shape)\n",
        "  input_shape = (shape[1],shape[2],shape[3])\n",
        "  \n",
        "  \n",
        "  model = Propagation(input_shape,channels,layers_dims,filter_conv,filter_pool,stride_conv,stride_pool,padding,keep_prob_conv,keep_prob_fully)\n",
        "  model.compile(loss='categorical_crossentropy',optimizer='adam',metrics=['accuracy'])\n",
        "  model.fit(x=train_set_X[0:50,:,:,:],y=train_set_Y[0:50,:],epochs=epochs,batch_size=mini_batch_size)\n",
        "  print('')\n",
        "  preds = model.evaluate(x=train_set_X[0:10,:,:,:],y=train_set_Y[0:10,:])\n",
        "  print(\"Train_Accuracy : \"+str(preds[1]*100))\n",
        "  print('')\n",
        "  preds = model.evaluate(x=test_set_X[0:10,:,:,:],y=test_set_Y[0:10,:])\n",
        "  print(\"Test_Accuracy : \"+str(preds[1]*100))\n",
        "  \n",
        "  model.summary()\n",
        "  print(model.predict(x=test_set_X[9:10,:]))"
      ],
      "execution_count": 0,
      "outputs": []
    },
    {
      "cell_type": "code",
      "metadata": {
        "id": "UaH8SKhlM6L8",
        "colab_type": "code",
        "colab": {
          "base_uri": "https://localhost:8080/",
          "height": 1000
        },
        "outputId": "762778da-038a-4b06-f44b-b24b3bda3903"
      },
      "source": [
        "Caller_Function()"
      ],
      "execution_count": 52,
      "outputs": [
        {
          "output_type": "stream",
          "text": [
            "Epoch 1/2\n",
            "50/50 [==============================] - 67s 1s/step - loss: 18.7187 - acc: 0.2600\n",
            "Epoch 2/2\n",
            "50/50 [==============================] - 62s 1s/step - loss: 13.9892 - acc: 0.4400\n",
            "\n",
            "10/10 [==============================] - 2s 184ms/step\n",
            "Train_Accuracy : 30.000001192092896\n",
            "\n",
            "10/10 [==============================] - 0s 37ms/step\n",
            "Test_Accuracy : 20.000000298023224\n",
            "_________________________________________________________________\n",
            "Layer (type)                 Output Shape              Param #   \n",
            "=================================================================\n",
            "input_11 (InputLayer)        (None, 64, 64, 3)         0         \n",
            "_________________________________________________________________\n",
            "zero_padding2d_21 (ZeroPaddi (None, 64, 64, 3)         0         \n",
            "_________________________________________________________________\n",
            "Conv1 (Conv2D)               (None, 62, 62, 32)        896       \n",
            "_________________________________________________________________\n",
            "BatchNorm_C1 (BatchNormaliza (None, 62, 62, 32)        128       \n",
            "_________________________________________________________________\n",
            "activation_21 (Activation)   (None, 62, 62, 32)        0         \n",
            "_________________________________________________________________\n",
            "dropout_36 (Dropout)         (None, 62, 62, 32)        0         \n",
            "_________________________________________________________________\n",
            "zero_padding2d_22 (ZeroPaddi (None, 62, 62, 32)        0         \n",
            "_________________________________________________________________\n",
            "Conv2 (Conv2D)               (None, 60, 60, 64)        18496     \n",
            "_________________________________________________________________\n",
            "BatchNorm_C2 (BatchNormaliza (None, 60, 60, 64)        256       \n",
            "_________________________________________________________________\n",
            "activation_22 (Activation)   (None, 60, 60, 64)        0         \n",
            "_________________________________________________________________\n",
            "dropout_37 (Dropout)         (None, 60, 60, 64)        0         \n",
            "_________________________________________________________________\n",
            "MaxPool1.0 (MaxPooling2D)    (None, 30, 30, 64)        0         \n",
            "_________________________________________________________________\n",
            "flatten_11 (Flatten)         (None, 57600)             0         \n",
            "_________________________________________________________________\n",
            "BatchNorm_F1 (BatchNormaliza (None, 57600)             230400    \n",
            "_________________________________________________________________\n",
            "FullyConnected1 (Dense)      (None, 1024)              58983424  \n",
            "_________________________________________________________________\n",
            "dropout_38 (Dropout)         (None, 1024)              0         \n",
            "_________________________________________________________________\n",
            "BatchNorm_F2 (BatchNormaliza (None, 1024)              4096      \n",
            "_________________________________________________________________\n",
            "FullyConnected2 (Dense)      (None, 6)                 6150      \n",
            "_________________________________________________________________\n",
            "dropout_39 (Dropout)         (None, 6)                 0         \n",
            "=================================================================\n",
            "Total params: 59,243,846\n",
            "Trainable params: 59,126,406\n",
            "Non-trainable params: 117,440\n",
            "_________________________________________________________________\n",
            "[[1.63589670e-10 7.39973083e-10 9.83378526e-13 6.61175907e-01\n",
            "  1.50528075e-02 3.23771268e-01]]\n"
          ],
          "name": "stdout"
        }
      ]
    },
    {
      "cell_type": "code",
      "metadata": {
        "id": "prBz2K16NA8u",
        "colab_type": "code",
        "colab": {}
      },
      "source": [
        ""
      ],
      "execution_count": 0,
      "outputs": []
    }
  ]
}