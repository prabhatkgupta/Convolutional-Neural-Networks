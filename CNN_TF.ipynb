{
  "nbformat": 4,
  "nbformat_minor": 0,
  "metadata": {
    "colab": {
      "name": "CNN_TF",
      "version": "0.3.2",
      "provenance": [],
      "collapsed_sections": []
    },
    "kernelspec": {
      "name": "python3",
      "display_name": "Python 3"
    }
  },
  "cells": [
    {
      "cell_type": "code",
      "metadata": {
        "id": "C3UntmGiqCHF",
        "colab_type": "code",
        "colab": {
          "base_uri": "https://localhost:8080/",
          "height": 72
        },
        "outputId": "37a662f9-c344-4e4b-a41e-e1a82716c2e2"
      },
      "source": [
        "import numpy as np\n",
        "import h5py\n",
        "import matplotlib.pyplot as plt\n",
        "import tensorflow as tf\n",
        "import os\n",
        "\n",
        "%matplotlib inline"
      ],
      "execution_count": 185,
      "outputs": [
        {
          "output_type": "stream",
          "text": [
            "batches.meta  data_batch_3  data.mat\t\ttest_signs.h5\n",
            "data_batch_1  data_batch_4  test_batch\t\ttrain_catvnoncat.h5\n",
            "data_batch_2  data_batch_5  test_catvnoncat.h5\ttrain_signs.h5\n"
          ],
          "name": "stdout"
        }
      ]
    },
    {
      "cell_type": "code",
      "metadata": {
        "id": "xlIrWVh6qHXZ",
        "colab_type": "code",
        "colab": {}
      },
      "source": [
        "os.chdir('drive/My Drive/Dataset')"
      ],
      "execution_count": 0,
      "outputs": []
    },
    {
      "cell_type": "code",
      "metadata": {
        "id": "_o43CxwGs5aw",
        "colab_type": "code",
        "colab": {}
      },
      "source": [
        "def Load_Data():\n",
        "  \n",
        "  train_dataset = h5py.File('train_signs.h5')\n",
        "  train_set_X_orig = np.array(train_dataset['train_set_x'][:])\n",
        "  train_set_Y_orig = np.array(train_dataset['train_set_y'][:])\n",
        "  \n",
        "  test_dataset = h5py.File('test_signs.h5')\n",
        "  test_set_X_orig = np.array(test_dataset['test_set_x'][:])\n",
        "  test_set_Y_orig = np.array(test_dataset['test_set_y'][:])\n",
        "  \n",
        "  classes = np.array(test_dataset['list_classes'][:])\n",
        "  \n",
        "  return train_set_X_orig,train_set_Y_orig,test_set_X_orig,test_set_Y_orig,classes\n",
        "  "
      ],
      "execution_count": 0,
      "outputs": []
    },
    {
      "cell_type": "code",
      "metadata": {
        "id": "pzvpjyYEt9MZ",
        "colab_type": "code",
        "colab": {}
      },
      "source": [
        "def Data_Preprocessing():\n",
        "  \n",
        "  train_set_X_orig,train_set_Y_orig,test_set_X_orig,test_set_Y_orig,classes = Load_Data()\n",
        "  \n",
        "  train_set_X = train_set_X_orig/255\n",
        "  train_set_Y = train_set_Y_orig.reshape(train_set_Y_orig.shape[0],1)\n",
        "  test_set_X = test_set_X_orig/255\n",
        "  test_set_Y = test_set_Y_orig.reshape(test_set_Y_orig.shape[0],1)\n",
        "  \n",
        "  return train_set_X,train_set_Y,test_set_X,test_set_Y"
      ],
      "execution_count": 0,
      "outputs": []
    },
    {
      "cell_type": "code",
      "metadata": {
        "id": "TtCFbtjeucdK",
        "colab_type": "code",
        "outputId": "5c0ddd31-56d9-4b75-92dc-7bbbb584b196",
        "colab": {
          "base_uri": "https://localhost:8080/",
          "height": 342
        }
      },
      "source": [
        "train_set_X,train_set_Y,test_set_X,test_set_Y,classes = Load_Data()\n",
        "print(train_set_X.shape,train_set_Y.shape)\n",
        "train_set_Y = train_set_Y.reshape(train_set_Y.shape[0],1)\n",
        "print(train_set_Y.shape)\n",
        "X = np.eye(6)[train_set_Y.T][0]\n",
        "print(X.shape)\n",
        "plt.imshow(train_set_X[0])\n",
        "print('Y = '+str(train_set_Y[0])+'. This is a sign of number '+str(classes[train_set_Y[0]]))"
      ],
      "execution_count": 188,
      "outputs": [
        {
          "output_type": "stream",
          "text": [
            "(1080, 64, 64, 3) (1080,)\n",
            "(1080, 1)\n",
            "(1080, 6)\n",
            "Y = [5]. This is a sign of number [5]\n"
          ],
          "name": "stdout"
        },
        {
          "output_type": "display_data",
          "data": {
            "image/png": "[encoded data removed]",
            "text/plain": [
              "<Figure size 432x288 with 1 Axes>"
            ]
          },
          "metadata": {
            "tags": []
          }
        }
      ]
    },
    {
      "cell_type": "code",
      "metadata": {
        "id": "daKGZrTLq8lT",
        "colab_type": "code",
        "colab": {}
      },
      "source": [
        "def Create_Placeholder(train_set_X_shape,train_set_Y_shape):\n",
        "  \n",
        "  shape1 = train_set_X_shape\n",
        "  shape2 = train_set_Y_shape\n",
        "  \n",
        "  X = tf.placeholder(name='X',dtype=tf.float32,shape=(None,shape1[1],shape1[2],shape1[3]))\n",
        "  Y = tf.placeholder(name='Y',dtype=tf.float32,shape=(None,shape2[1]))\n",
        "  \n",
        "  return X,Y"
      ],
      "execution_count": 0,
      "outputs": []
    },
    {
      "cell_type": "code",
      "metadata": {
        "id": "HeccFg_8sHBw",
        "colab_type": "code",
        "colab": {}
      },
      "source": [
        "def Initialize_Parameters(channels,filter_conv):\n",
        "  \n",
        "  L = len(channels)\n",
        "  parameters = {}\n",
        "  \n",
        "  for l in range(1,L):\n",
        "    W = tf.get_variable(name='WC'+str(l),shape=(filter_conv[l-1][0],filter_conv[l-1][1],channels[l-1],channels[l]),initializer=tf.contrib.layers.xavier_initializer())\n",
        "    parameters['WC'+str(l)] = W\n",
        "  \n",
        "  return parameters"
      ],
      "execution_count": 0,
      "outputs": []
    },
    {
      "cell_type": "code",
      "metadata": {
        "id": "CV4f4t_LjbtS",
        "colab_type": "code",
        "colab": {}
      },
      "source": [
        "tf.reset_default_graph()"
      ],
      "execution_count": 0,
      "outputs": []
    },
    {
      "cell_type": "code",
      "metadata": {
        "id": "sK3ZyU2azoAP",
        "colab_type": "code",
        "colab": {}
      },
      "source": [
        "def Forward_Propagation(train_set_X,parameters,layers_dims,filter_pool,stride_conv,stride_pool,padding):\n",
        "  \n",
        "  L = len(stride_conv)\n",
        "  AC = tf.convert_to_tensor(train_set_X,dtype=tf.float32)\n",
        "  \n",
        "  for l in range(L):\n",
        "    W = parameters['WC'+str(l+1)]\n",
        "    s = stride_conv[l]\n",
        "    p = padding[l]\n",
        "    ZC = tf.nn.conv2d(AC,W,strides=[1,s[0],s[1],1],padding=[[0,0],p,p,[0,0]])\n",
        "    ZCNorm = tf.layers.batch_normalization(ZC,axis=-1,epsilon=0.0001,center=True,scale=True,gamma_initializer=tf.contrib.layers.xavier_initializer(),beta_initializer=tf.zeros_initializer())\n",
        "    AC = tf.nn.relu(ZCNorm)\n",
        "    if(l%2 == 1):\n",
        "      f = filter_pool[int(l/2)]\n",
        "      sp = stride_pool[int(l/2)]\n",
        "      AC = tf.nn.max_pool(AC,ksize=[1,f[0],f[1],1],strides=[1,sp[0],sp[1],1],padding='VALID')\n",
        "   \n",
        "  AF = tf.contrib.layers.flatten(AC)\n",
        "  L = len(layers_dims)\n",
        "  \n",
        "  for l in range(L):\n",
        "    ZF = tf.contrib.layers.fully_connected(AF,layers_dims[l],activation_fn=None)\n",
        "    ZFNorm = tf.layers.batch_normalization(ZF,axis=-1,epsilon=0.0001,center=True,scale=True,gamma_initializer=tf.contrib.layers.xavier_initializer(),beta_initializer=tf.zeros_initializer())\n",
        "    if(l != L-1):\n",
        "      AF = tf.nn.relu(ZFNorm)\n",
        "    else:\n",
        "      AF = ZFNorm\n",
        "  \n",
        "  return AF"
      ],
      "execution_count": 0,
      "outputs": []
    },
    {
      "cell_type": "code",
      "metadata": {
        "id": "F7F0VNG6Jvn3",
        "colab_type": "code",
        "colab": {}
      },
      "source": [
        "def compute_cost_sigmoid(Y,A,parameters,regu,lambd,channels):\n",
        "  \n",
        "  m_train = Y.shape[0]\n",
        "  cost = tf.reduce_mean(tf.nn.sigmoid_cross_entropy_with_logits(logits=A,labels=Y))\n",
        "  \n",
        "  if(regu):\n",
        "    sum = tf.Variable(0.0)\n",
        "    L = len(channels)\n",
        "    \n",
        "    for l in range(1,L):\n",
        "      WC = parameters['WC'+str(l)]\n",
        "      sum = tf.add(sum,tf.l2_loss(WC))\n",
        "      \n",
        "    sum = tf.divide(sum,m_train)\n",
        "    cost = tf.add(sum,cost)\n",
        "  \n",
        "  return cost"
      ],
      "execution_count": 0,
      "outputs": []
    },
    {
      "cell_type": "code",
      "metadata": {
        "id": "rI7LFEEeCP4Y",
        "colab_type": "code",
        "colab": {}
      },
      "source": [
        "def compute_cost_softmax(Y,A,parameters,regu,lambd,channels):\n",
        "  \n",
        "  m_train = Y.shape[0]\n",
        "  cost = tf.reduce_mean(tf.nn.softmax_cross_entropy_with_logits(logits=A,labels=Y))\n",
        "  \n",
        "  if(regu):\n",
        "    sum = tf.Variable(0.0)\n",
        "    L = len(channels)\n",
        "    \n",
        "    for l in range(1,L):\n",
        "      WC = parameters['WC'+str(l)]\n",
        "      sum = tf.add(sum,tf.l2_loss(WC))\n",
        "      \n",
        "    sum = tf.divide(sum,m_train)\n",
        "    cost = tf.add(sum,cost)\n",
        "   \n",
        "  return cost"
      ],
      "execution_count": 0,
      "outputs": []
    },
    {
      "cell_type": "code",
      "metadata": {
        "id": "IX6ZtpbXDemB",
        "colab_type": "code",
        "colab": {}
      },
      "source": [
        "def Shuffle_And_Split(train_set_X,train_set_Y,mini_batch_size):\n",
        "  \n",
        "  m_train = train_set_X.shape[0]\n",
        "  perm = list(np.random.permutation(m_train))\n",
        "  train_set_X = train_set_X[perm,:,:,:]\n",
        "  train_set_Y = train_set_Y[perm,:]\n",
        "  \n",
        "  n = int(m_train/mini_batch_size)\n",
        "  minibatches = []\n",
        "  \n",
        "  for i in range(n):\n",
        "    X = train_set_X[i*mini_batch_size:(i+1)*mini_batch_size,:,:,:]\n",
        "    Y = train_set_Y[i*mini_batch_size:(i+1)*mini_batch_size,:]\n",
        "    minibatch = (X,Y)\n",
        "    minibatches.append(minibatch)\n",
        "  \n",
        "  if(m_train % mini_batch_size != 0):\n",
        "    X = train_set_X[n*mini_batch_size:m_train,:,:,:]\n",
        "    Y = train_set_Y[n*mini_batch_size:m_train,:]\n",
        "    minibatch = (X,Y)\n",
        "    minibatches.append(minibatch)\n",
        "  \n",
        "  return minibatches"
      ],
      "execution_count": 0,
      "outputs": []
    },
    {
      "cell_type": "code",
      "metadata": {
        "id": "xoaMjTZ_Du8a",
        "colab_type": "code",
        "colab": {}
      },
      "source": [
        "def Model(train_set_X,train_set_Y,test_set_X,test_set_Y,learning_rate,epochs,layers_dims,channels,filter_conv,filter_pool,stride_conv,stride_pool,padding):\n",
        "  \n",
        "  lambd = 0.1\n",
        "  regu = False\n",
        "  mini_batch_size = 64\n",
        "  L = len(layers_dims)\n",
        "  \n",
        "  if(layers_dims[L-1] > 1):\n",
        "    train_set_Y = np.eye(6)[train_set_Y.T][0]\n",
        "    test_set_Y = np.eye(6)[test_set_Y.T][0]\n",
        "    activation = 'softmax'\n",
        "  else:\n",
        "    activation = 'sigmoid'\n",
        "    \n",
        "  total_cost = []\n",
        "  X,Y = Create_Placeholder(train_set_X.shape,train_set_Y.shape)\n",
        "  parameters = Initialize_Parameters(channels,filter_conv)\n",
        "  A = Forward_Propagation(X,parameters,layers_dims,filter_pool,stride_conv,stride_pool,padding)\n",
        "  \n",
        "  if(activation == 'softmax'):\n",
        "    cost = compute_cost_softmax(Y,A,parameters,regu,lambd,channels)\n",
        "  else:\n",
        "    cost = compute_cost_sigmoid(Y,A,parameters,regu,lambd,channels)\n",
        "  \n",
        "  optimizer = tf.train.AdamOptimizer(learning_rate).minimize(cost)\n",
        "  \n",
        "  init = tf.global_variables_initializer()\n",
        "  sess = tf.Session()\n",
        "  init = sess.run(init)\n",
        "\n",
        "  for i in range(epochs):\n",
        "    minibatches = Shuffle_And_Split(train_set_X,train_set_Y,mini_batch_size)\n",
        "\n",
        "    for minibatch in minibatches:\n",
        "      (minibatch_X,minibatch_Y) = minibatch\n",
        "\n",
        "      val1,val2 = sess.run([cost,optimizer],feed_dict={X:minibatch_X,Y:minibatch_Y})\n",
        "\n",
        "      if(True):\n",
        "        total_cost.append(val1)\n",
        "        \n",
        "    print('Cost after '+str(i)+'th Iteration : '+str(val1))\n",
        "  \n",
        "  plt.plot(total_cost)\n",
        "  plt.xlabel('Iterations')\n",
        "  plt.ylabel('Cost')\n",
        "  plt.title(\"Learning_Rate : \"+str(learning_rate))\n",
        "  plt.show()  \n",
        "  \n",
        "  if(activation == 'sigmoid'):\n",
        "    A_val = tf.sigmoid(A)\n",
        "    Acc = tf.reduce_mean(tf.multiply(A_val,Y))*100\n",
        "    \n",
        "  elif(activation == 'softmax'):\n",
        "    Z = tf.nn.softmax(A)\n",
        "    A_val = tf.argmax(Z,axis=1)\n",
        "    A_corr = tf.equal(A_val,tf.argmax(Y,axis=1))\n",
        "    Acc = tf.reduce_mean(tf.cast(A_corr,'float'))*100\n",
        "\n",
        "    print(\"Training Set Accuracy  :  \",sess.run(Acc,feed_dict={X:train_set_X,Y:train_set_Y})) \n",
        "    print(\"Test Set Accuracy  :  \",sess.run(Acc,feed_dict={X:test_set_X,Y:test_set_Y}))\n",
        "  \n",
        "  parameters = sess.run(parameters)\n",
        "  \n",
        "  sess.close()\n",
        "  \n",
        "  return parameters"
      ],
      "execution_count": 0,
      "outputs": []
    },
    {
      "cell_type": "code",
      "metadata": {
        "id": "Cssvvb3tIiS7",
        "colab_type": "code",
        "colab": {}
      },
      "source": [
        "def Caller_Function():\n",
        "  \n",
        "  train_set_X,train_set_Y,test_set_X,test_set_Y = Data_Preprocessing()\n",
        "  learning_rate = 0.009\n",
        "  epochs = 20\n",
        "  channels = [train_set_X.shape[3]]\n",
        "  channels.extend([32,64])\n",
        "  filter_conv = [(3,3),(3,3)]\n",
        "  filter_pool = [(2,2)]\n",
        "  stride_conv = [(1,1),(1,1)]\n",
        "  stride_pool = [(2,2)]\n",
        "  padding = [[0,0],[0,0]]\n",
        "  layers_dims=[1024,6]\n",
        "  \n",
        "  parameters = Model(train_set_X,train_set_Y,test_set_X,test_set_Y,learning_rate,epochs,layers_dims,channels,filter_conv,filter_pool,stride_conv,stride_pool,padding)\n",
        "  \n",
        "  print('')\n",
        "  for key,value in parameters.items():\n",
        "    print(key,value)"
      ],
      "execution_count": 0,
      "outputs": []
    },
    {
      "cell_type": "code",
      "metadata": {
        "id": "aTbAxaoLIksb",
        "colab_type": "code",
        "colab": {}
      },
      "source": [
        "tf.reset_default_graph()\n",
        "Caller_Function()"
      ],
      "execution_count": 0,
      "outputs": []
    },
    {
      "cell_type": "code",
      "metadata": {
        "id": "D0NqTQlqK4bF",
        "colab_type": "code",
        "colab": {}
      },
      "source": [
        ""
      ],
      "execution_count": 0,
      "outputs": []
    }
  ]
}